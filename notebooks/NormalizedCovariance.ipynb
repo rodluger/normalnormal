{
 "cells": [
  {
   "cell_type": "markdown",
   "metadata": {
    "heading_collapsed": true,
    "tags": [
     "hide_input"
    ]
   },
   "source": [
    "##### Config"
   ]
  },
  {
   "cell_type": "code",
   "execution_count": 1,
   "metadata": {
    "hidden": true,
    "tags": [
     "hide_input"
    ]
   },
   "outputs": [],
   "source": [
    "%matplotlib inline"
   ]
  },
  {
   "cell_type": "code",
   "execution_count": 2,
   "metadata": {
    "hidden": true,
    "tags": [
     "hide_input"
    ]
   },
   "outputs": [],
   "source": [
    "%config InlineBackend.figure_format = \"retina\""
   ]
  },
  {
   "cell_type": "code",
   "execution_count": 3,
   "metadata": {
    "hidden": true,
    "tags": [
     "hide_input"
    ]
   },
   "outputs": [],
   "source": [
    "import matplotlib\n",
    "import matplotlib.pyplot as plt\n",
    "import numpy as np\n",
    "\n",
    "# Disable annoying font warnings\n",
    "matplotlib.font_manager._log.setLevel(50)\n",
    "\n",
    "# Disable theano deprecation warnings\n",
    "import warnings\n",
    "warnings.filterwarnings('ignore', category=DeprecationWarning)\n",
    "warnings.filterwarnings('ignore', category=FutureWarning)\n",
    "warnings.filterwarnings('ignore', category=UserWarning, module='theano')\n",
    "\n",
    "# Style\n",
    "plt.style.use('default')\n",
    "plt.rcParams['savefig.dpi'] = 100\n",
    "plt.rcParams['figure.dpi'] = 100\n",
    "plt.rcParams['figure.figsize'] = (12, 4)\n",
    "plt.rcParams['font.size'] = 14\n",
    "plt.rcParams['text.usetex'] = False\n",
    "plt.rcParams['font.family'] = 'sans-serif'\n",
    "plt.rcParams['font.sans-serif'] = ['Liberation Sans']\n",
    "plt.rcParams['font.cursive'] = ['Liberation Sans']\n",
    "plt.rcParams['mathtext.fontset'] = 'cm'\n",
    "plt.rcParams['mathtext.fallback_to_cm'] = True"
   ]
  },
  {
   "cell_type": "code",
   "execution_count": 4,
   "metadata": {
    "hidden": true,
    "tags": [
     "hide_input"
    ]
   },
   "outputs": [],
   "source": [
    "del matplotlib; del plt; del warnings"
   ]
  },
  {
   "cell_type": "markdown",
   "metadata": {
    "tags": [
     "hide_input"
    ]
   },
   "source": [
    "##### Main"
   ]
  },
  {
   "cell_type": "code",
   "execution_count": 5,
   "metadata": {},
   "outputs": [],
   "source": [
    "import numpy as np\n",
    "import matplotlib.pyplot as plt\n",
    "from tqdm.auto import tqdm\n",
    "from scipy.special import factorial\n",
    "from utils import g, norm_cov\n",
    "import george\n",
    "from george.kernels import CosineKernel\n",
    "from scipy.linalg import toeplitz\n",
    "from corner import corner"
   ]
  },
  {
   "cell_type": "code",
   "execution_count": 102,
   "metadata": {},
   "outputs": [],
   "source": [
    "np.random.seed(0)\n",
    "\n",
    "# GP mean\n",
    "mu = 0.75\n",
    "\n",
    "# Dimension of the problem\n",
    "K = 3\n",
    "\n",
    "# Order we will go up to\n",
    "N = 10\n",
    "\n",
    "# Number of samples in numerical estimate\n",
    "M = 100000\n",
    "\n",
    "# Random covariance and its Cholesky decomp.\n",
    "L = 0.1 * np.tril(0.25 * np.random.randn(K, K) + np.eye(K))\n",
    "Sig = L @ L.T\n",
    "\n",
    "# The mean of all elements in the covariance matrix\n",
    "barSig = np.mean(Sig)\n",
    "\n",
    "# Ones vector & matrix\n",
    "j = np.ones((K, 1))\n",
    "J = np.ones((K, K))"
   ]
  },
  {
   "cell_type": "markdown",
   "metadata": {},
   "source": [
    "Direct sampling:"
   ]
  },
  {
   "cell_type": "code",
   "execution_count": 103,
   "metadata": {},
   "outputs": [
    {
     "data": {
      "text/plain": [
       "array([[ 0.01518063, -0.00914032, -0.00604031],\n",
       "       [-0.00914032,  0.02104074, -0.01190042],\n",
       "       [-0.00604031, -0.01190042,  0.01794073]])"
      ]
     },
     "execution_count": 103,
     "metadata": {},
     "output_type": "execute_result"
    }
   ],
   "source": [
    "u = np.random.randn(K, M)\n",
    "x = mu + L @ u\n",
    "xnorm = x / np.mean(x, axis=0).reshape(1, -1)\n",
    "np.cov(xnorm)"
   ]
  },
  {
   "cell_type": "markdown",
   "metadata": {},
   "source": [
    "Numerical, using P, Q, R:"
   ]
  },
  {
   "cell_type": "code",
   "execution_count": 121,
   "metadata": {},
   "outputs": [
    {
     "data": {
      "application/vnd.jupyter.widget-view+json": {
       "model_id": "fdaf34dfdb2448ed9a859f30aaf08ad1",
       "version_major": 2,
       "version_minor": 0
      },
      "text/plain": [
       "HBox(children=(FloatProgress(value=0.0, max=100000.0), HTML(value='')))"
      ]
     },
     "metadata": {},
     "output_type": "display_data"
    },
    {
     "name": "stdout",
     "output_type": "stream",
     "text": [
      "\n"
     ]
    },
    {
     "data": {
      "text/plain": [
       "array([[ 0.01535317, -0.00914519, -0.00620798],\n",
       "       [-0.00914519,  0.02101938, -0.0118742 ],\n",
       "       [-0.00620798, -0.0118742 ,  0.01808218]])"
      ]
     },
     "execution_count": 121,
     "metadata": {},
     "output_type": "execute_result"
    }
   ],
   "source": [
    "P = np.empty((M, K, K))\n",
    "Q = np.empty((M, K, K))\n",
    "R = np.empty((M, K, K))\n",
    "\n",
    "for m in tqdm(range(M)):\n",
    "    u = np.random.randn(K, 1)\n",
    "    z = 1 / (mu * K) * j.T @ L @ u\n",
    "    P[m] = (z ** 2 * J) / (1 + z) ** 2\n",
    "    Q[m] = (z * L @ u @ j.T) / (1 + z) ** 2\n",
    "    R[m] = (L @ u @ u.T @ L.T) / (1 + z) ** 2\n",
    "    \n",
    "P = np.mean(P, axis=0)\n",
    "Q = np.mean(Q, axis=0)\n",
    "R = np.mean(R, axis=0)\n",
    "\n",
    "P - (Q + Q.T) / mu + R / mu ** 2"
   ]
  },
  {
   "cell_type": "markdown",
   "metadata": {},
   "source": [
    "Series solution:"
   ]
  },
  {
   "cell_type": "code",
   "execution_count": 136,
   "metadata": {},
   "outputs": [
    {
     "data": {
      "text/plain": [
       "array([[ 0.0153166 , -0.00917094, -0.00614566],\n",
       "       [-0.00917094,  0.02107963, -0.01190869],\n",
       "       [-0.00614566, -0.01190869,  0.01805435]])"
      ]
     },
     "execution_count": 136,
     "metadata": {},
     "output_type": "execute_result"
    }
   ],
   "source": [
    "def norm_cov(mu, Sig, N=20):\n",
    "    K = Sig.shape[0]\n",
    "    J = np.ones((K, K))\n",
    "    barSig = np.mean(Sig)\n",
    "\n",
    "    # Powers of S\n",
    "    S = (Sig @ J) / K ** 2 / barSig\n",
    "    Spow = [np.eye(K)]\n",
    "    for n in range((N + 2) // 2):\n",
    "        Spow.append(Spow[-1] @ S)\n",
    "\n",
    "    norm_cov = np.zeros_like(Sig)\n",
    "    for n in range(0, N + 1, 2):\n",
    "        fac = (-1) ** n * (n + 1) * g(n) * barSig ** (n // 2) / (mu ** n)\n",
    "        norm_cov += fac * (\n",
    "            Sig\n",
    "            + n * (Spow[n // 2]) @ Sig\n",
    "            + (n + 1) * barSig * J\n",
    "            - (n + 1) * barSig * K * (Spow[(n + 2) // 2] + Spow[(n + 2) // 2].T)\n",
    "        )\n",
    "\n",
    "    return norm_cov / mu ** 2\n",
    "\n",
    "\n",
    "norm_cov(mu, Sig)"
   ]
  },
  {
   "cell_type": "code",
   "execution_count": 123,
   "metadata": {},
   "outputs": [
    {
     "data": {
      "text/plain": [
       "array([[ 0.0153166 , -0.00917094, -0.00614566],\n",
       "       [-0.00917094,  0.02107963, -0.01190869],\n",
       "       [-0.00614566, -0.01190869,  0.01805435]])"
      ]
     },
     "execution_count": 123,
     "metadata": {},
     "output_type": "execute_result"
    }
   ],
   "source": [
    "def norm_cov(mu, Sig, N=20):\n",
    "    K = Sig.shape[0]\n",
    "    J = np.ones((K, K))\n",
    "    barSig = np.mean(Sig)\n",
    "\n",
    "    # Powers of S\n",
    "    S = (Sig @ J) / K ** 2\n",
    "    Spow = [np.eye(K)]\n",
    "    for n in range((N + 2) // 2):\n",
    "        Spow.append(Spow[-1] @ S)\n",
    "\n",
    "    norm_cov = np.zeros_like(Sig)\n",
    "    for n in range(0, N + 1, 2):\n",
    "\n",
    "        EP = (n + 1) * g(n) * barSig ** ((n + 2) // 2) * J\n",
    "        P = (-1) ** n * (n + 1) * EP\n",
    "\n",
    "        EQ = (n + 1) * K * g(n) * Spow[(n + 2) // 2]\n",
    "        Q = (-1) ** n * (n + 1) * EQ\n",
    "\n",
    "        ER = n * g(n) * Spow[n // 2] @ Sig + g(n) * barSig ** (n // 2) * Sig\n",
    "        R = (-1) ** n * (n + 1) * ER\n",
    "\n",
    "        norm_cov += (P - (Q + Q.T) + R) / (mu ** (n + 2))\n",
    "\n",
    "    return norm_cov\n",
    "\n",
    "norm_cov(mu, Sig)"
   ]
  },
  {
   "cell_type": "code",
   "execution_count": null,
   "metadata": {},
   "outputs": [],
   "source": []
  }
 ],
 "metadata": {
  "kernelspec": {
   "display_name": "Python 3",
   "language": "python",
   "name": "python3"
  },
  "language_info": {
   "codemirror_mode": {
    "name": "ipython",
    "version": 3
   },
   "file_extension": ".py",
   "mimetype": "text/x-python",
   "name": "python",
   "nbconvert_exporter": "python",
   "pygments_lexer": "ipython3",
   "version": "3.8.3"
  }
 },
 "nbformat": 4,
 "nbformat_minor": 4
}
