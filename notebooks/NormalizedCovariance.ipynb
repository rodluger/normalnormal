{
 "cells": [
  {
   "cell_type": "markdown",
   "metadata": {
    "heading_collapsed": true,
    "tags": [
     "hide_input"
    ]
   },
   "source": [
    "##### Config"
   ]
  },
  {
   "cell_type": "code",
   "execution_count": 1,
   "metadata": {
    "hidden": true,
    "tags": [
     "hide_input"
    ]
   },
   "outputs": [],
   "source": [
    "%matplotlib inline"
   ]
  },
  {
   "cell_type": "code",
   "execution_count": 2,
   "metadata": {
    "hidden": true,
    "tags": [
     "hide_input"
    ]
   },
   "outputs": [],
   "source": [
    "%config InlineBackend.figure_format = \"retina\""
   ]
  },
  {
   "cell_type": "code",
   "execution_count": 3,
   "metadata": {
    "hidden": true,
    "tags": [
     "hide_input"
    ]
   },
   "outputs": [],
   "source": [
    "import matplotlib\n",
    "import matplotlib.pyplot as plt\n",
    "import numpy as np\n",
    "\n",
    "# Disable annoying font warnings\n",
    "matplotlib.font_manager._log.setLevel(50)\n",
    "\n",
    "# Disable theano deprecation warnings\n",
    "import warnings\n",
    "warnings.filterwarnings('ignore', category=DeprecationWarning)\n",
    "warnings.filterwarnings('ignore', category=FutureWarning)\n",
    "warnings.filterwarnings('ignore', category=UserWarning, module='theano')\n",
    "\n",
    "# Style\n",
    "plt.style.use('default')\n",
    "plt.rcParams['savefig.dpi'] = 100\n",
    "plt.rcParams['figure.dpi'] = 100\n",
    "plt.rcParams['figure.figsize'] = (12, 4)\n",
    "plt.rcParams['font.size'] = 14\n",
    "plt.rcParams['text.usetex'] = False\n",
    "plt.rcParams['font.family'] = 'sans-serif'\n",
    "plt.rcParams['font.sans-serif'] = ['Liberation Sans']\n",
    "plt.rcParams['font.cursive'] = ['Liberation Sans']\n",
    "plt.rcParams['mathtext.fontset'] = 'cm'\n",
    "plt.rcParams['mathtext.fallback_to_cm'] = True"
   ]
  },
  {
   "cell_type": "code",
   "execution_count": 4,
   "metadata": {
    "hidden": true,
    "tags": [
     "hide_input"
    ]
   },
   "outputs": [],
   "source": [
    "del matplotlib; del plt; del warnings"
   ]
  },
  {
   "cell_type": "markdown",
   "metadata": {
    "tags": [
     "hide_input"
    ]
   },
   "source": [
    "##### Main"
   ]
  },
  {
   "cell_type": "code",
   "execution_count": 5,
   "metadata": {},
   "outputs": [],
   "source": [
    "import numpy as np\n",
    "import matplotlib.pyplot as plt\n",
    "from tqdm.auto import tqdm\n",
    "from scipy.special import factorial\n",
    "from utils import g, norm_cov\n",
    "import george\n",
    "from george.kernels import CosineKernel\n",
    "from scipy.linalg import toeplitz\n",
    "from corner import corner"
   ]
  },
  {
   "cell_type": "code",
   "execution_count": 12,
   "metadata": {},
   "outputs": [],
   "source": [
    "np.random.seed(0)\n",
    "\n",
    "# GP mean\n",
    "mu = 1.0\n",
    "\n",
    "# Dimension of the problem\n",
    "K = 3\n",
    "\n",
    "# Order we will go up to\n",
    "N = 10\n",
    "\n",
    "# Number of samples in numerical estimate\n",
    "M = 100000\n",
    "\n",
    "# Random covariance and its Cholesky decomp.\n",
    "L = 0.1 * np.tril(0.25 * np.random.randn(K, K) + np.eye(K))\n",
    "Sig = L @ L.T\n",
    "\n",
    "# The mean of all elements in the covariance matrix\n",
    "barSig = np.mean(Sig)\n",
    "\n",
    "# Ones vector & matrix\n",
    "j = np.ones((K, 1))\n",
    "J = np.ones((K, K))"
   ]
  },
  {
   "cell_type": "markdown",
   "metadata": {},
   "source": [
    "Direct sampling:"
   ]
  },
  {
   "cell_type": "code",
   "execution_count": 13,
   "metadata": {},
   "outputs": [
    {
     "data": {
      "text/plain": [
       "array([[ 0.00832646, -0.00504559, -0.00328088],\n",
       "       [-0.00504559,  0.01154679, -0.0065012 ],\n",
       "       [-0.00328088, -0.0065012 ,  0.00978208]])"
      ]
     },
     "execution_count": 13,
     "metadata": {},
     "output_type": "execute_result"
    }
   ],
   "source": [
    "u = np.random.randn(K, M)\n",
    "x = mu + L @ u\n",
    "xnorm = x / np.mean(x, axis=0).reshape(1, -1)\n",
    "np.cov(xnorm)"
   ]
  },
  {
   "cell_type": "markdown",
   "metadata": {},
   "source": [
    "Numerical, using P, Q, R:"
   ]
  },
  {
   "cell_type": "code",
   "execution_count": 228,
   "metadata": {},
   "outputs": [
    {
     "data": {
      "application/vnd.jupyter.widget-view+json": {
       "model_id": "d3231f897e0746b4af25ebacd0a626d2",
       "version_major": 2,
       "version_minor": 0
      },
      "text/plain": [
       "HBox(children=(FloatProgress(value=0.0, max=100000.0), HTML(value='')))"
      ]
     },
     "metadata": {},
     "output_type": "display_data"
    },
    {
     "name": "stdout",
     "output_type": "stream",
     "text": [
      "\n"
     ]
    },
    {
     "data": {
      "text/plain": [
       "array([[ 0.00839763, -0.00509085, -0.00330677],\n",
       "       [-0.00509085,  0.01156846, -0.00647761],\n",
       "       [-0.00330677, -0.00647761,  0.00978438]])"
      ]
     },
     "execution_count": 228,
     "metadata": {},
     "output_type": "execute_result"
    }
   ],
   "source": [
    "P = np.empty((M, K, K))\n",
    "Q = np.empty((M, K, K))\n",
    "R = np.empty((M, K, K))\n",
    "\n",
    "for m in tqdm(range(M)):\n",
    "    u = np.random.randn(K, 1)\n",
    "    z = 1 / (mu * K) * j.T @ L @ u\n",
    "    P[m] = (z ** 2 * J) / (1 + z) ** 2\n",
    "    Q[m] = (z * L @ u @ j.T) / (1 + z) ** 2\n",
    "    R[m] = (L @ u @ u.T @ L.T) / (1 + z) ** 2\n",
    "    \n",
    "P = np.mean(P, axis=0)\n",
    "Q = np.mean(Q, axis=0)\n",
    "R = np.mean(R, axis=0)\n",
    "\n",
    "P - (Q + Q.T) / mu + R / mu ** 2"
   ]
  },
  {
   "cell_type": "markdown",
   "metadata": {},
   "source": [
    "Series solution:"
   ]
  },
  {
   "cell_type": "code",
   "execution_count": 302,
   "metadata": {},
   "outputs": [
    {
     "data": {
      "text/plain": [
       "array([[ 0.0084011 , -0.00506698, -0.00333412],\n",
       "       [-0.00506698,  0.0115597 , -0.00649272],\n",
       "       [-0.00333412, -0.00649272,  0.00982684]])"
      ]
     },
     "execution_count": 302,
     "metadata": {},
     "output_type": "execute_result"
    }
   ],
   "source": [
    "def norm_cov(mu, Sig, N=20):\n",
    "    K = Sig.shape[0]\n",
    "    J = np.ones((K, K))\n",
    "    barSig = np.mean(Sig)\n",
    "\n",
    "    # Powers of S\n",
    "    S = (Sig @ J) / K ** 2\n",
    "    Spow = [np.eye(K)]\n",
    "    for n in range((N + 2) // 2):\n",
    "        Spow.append(Spow[-1] @ S)\n",
    "\n",
    "    norm_cov = np.zeros_like(Sig)\n",
    "    for n in range(0, N + 1, 2):\n",
    "        norm_cov += (-1) ** n * (n + 1) ** 2 * g(n) * (\n",
    "            barSig ** ((n + 2) // 2) * J \n",
    "            - K / mu * (Spow[(n + 2) // 2] + Spow[(n + 2) // 2].T)\n",
    "            + n / ((n + 1) * mu ** 2) * Spow[n // 2] @ Sig\n",
    "            + barSig ** (n // 2) / ((n + 1) * mu ** 2) * Sig\n",
    "        )\n",
    "\n",
    "    return norm_cov\n",
    "\n",
    "norm_cov(mu, Sig)"
   ]
  }
 ],
 "metadata": {
  "kernelspec": {
   "display_name": "Python 3",
   "language": "python",
   "name": "python3"
  },
  "language_info": {
   "codemirror_mode": {
    "name": "ipython",
    "version": 3
   },
   "file_extension": ".py",
   "mimetype": "text/x-python",
   "name": "python",
   "nbconvert_exporter": "python",
   "pygments_lexer": "ipython3",
   "version": "3.8.3"
  }
 },
 "nbformat": 4,
 "nbformat_minor": 4
}
